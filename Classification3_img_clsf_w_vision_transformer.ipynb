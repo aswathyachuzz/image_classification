{
  "nbformat": 4,
  "nbformat_minor": 0,
  "metadata": {
    "colab": {
      "provenance": [],
      "include_colab_link": true
    },
    "kernelspec": {
      "name": "python3",
      "display_name": "Python 3"
    },
    "language_info": {
      "name": "python"
    },
    "accelerator": "GPU",
    "gpuClass": "standard"
  },
  "cells": [
    {
      "cell_type": "markdown",
      "metadata": {
        "id": "view-in-github",
        "colab_type": "text"
      },
      "source": [
        "<a href=\"https://colab.research.google.com/github/aswathyachuzz/image_classification/blob/main/Classification3_img_clsf_w_vision_transformer.ipynb\" target=\"_parent\"><img src=\"https://colab.research.google.com/assets/colab-badge.svg\" alt=\"Open In Colab\"/></a>"
      ]
    },
    {
      "cell_type": "code",
      "source": [
        "pip install -U tensorflow-addons"
      ],
      "metadata": {
        "colab": {
          "base_uri": "https://localhost:8080/"
        },
        "id": "xf-1pYxWUIDD",
        "outputId": "1de7d2e3-5690-4bf3-958f-315de960997c"
      },
      "execution_count": null,
      "outputs": [
        {
          "output_type": "stream",
          "name": "stdout",
          "text": [
            "Looking in indexes: https://pypi.org/simple, https://us-python.pkg.dev/colab-wheels/public/simple/\n",
            "Collecting tensorflow-addons\n",
            "  Downloading tensorflow_addons-0.20.0-cp310-cp310-manylinux_2_17_x86_64.manylinux2014_x86_64.whl (591 kB)\n",
            "\u001b[2K     \u001b[90m━━━━━━━━━━━━━━━━━━━━━━━━━━━━━━━━━━━━━━━\u001b[0m \u001b[32m591.0/591.0 kB\u001b[0m \u001b[31m5.7 MB/s\u001b[0m eta \u001b[36m0:00:00\u001b[0m\n",
            "\u001b[?25hRequirement already satisfied: packaging in /usr/local/lib/python3.10/dist-packages (from tensorflow-addons) (23.1)\n",
            "Collecting typeguard<3.0.0,>=2.7 (from tensorflow-addons)\n",
            "  Downloading typeguard-2.13.3-py3-none-any.whl (17 kB)\n",
            "Installing collected packages: typeguard, tensorflow-addons\n",
            "Successfully installed tensorflow-addons-0.20.0 typeguard-2.13.3\n"
          ]
        }
      ]
    },
    {
      "cell_type": "code",
      "source": [
        "import numpy as np\n",
        "import tensorflow as tf\n",
        "from tensorflow import keras\n",
        "from tensorflow.keras import layers\n",
        "import tensorflow_addons as tfa"
      ],
      "metadata": {
        "id": "CyUXqSbTUK7u",
        "colab": {
          "base_uri": "https://localhost:8080/"
        },
        "outputId": "b7f3d14e-eed6-4e1c-d5f8-a425a0fdcd1b"
      },
      "execution_count": null,
      "outputs": [
        {
          "output_type": "stream",
          "name": "stderr",
          "text": [
            "/usr/local/lib/python3.10/dist-packages/tensorflow_addons/utils/tfa_eol_msg.py:23: UserWarning: \n",
            "\n",
            "TensorFlow Addons (TFA) has ended development and introduction of new features.\n",
            "TFA has entered a minimal maintenance and release mode until a planned end of life in May 2024.\n",
            "Please modify downstream libraries to take dependencies from other repositories in our TensorFlow community (e.g. Keras, Keras-CV, and Keras-NLP). \n",
            "\n",
            "For more information see: https://github.com/tensorflow/addons/issues/2807 \n",
            "\n",
            "  warnings.warn(\n"
          ]
        }
      ]
    },
    {
      "cell_type": "code",
      "source": [
        "num_classes = 100\n",
        "input_shape = (32, 32, 3)\n",
        "\n",
        "(x_train, y_train), (x_test, y_test) = keras.datasets.cifar100.load_data()\n",
        "\n",
        "print(f\"x_train shape: {x_train.shape} - y_train shape: {y_train.shape}\")\n",
        "print(f\"x_test shape: {x_test.shape} - y_test shape: {y_test.shape}\")"
      ],
      "metadata": {
        "colab": {
          "base_uri": "https://localhost:8080/"
        },
        "id": "nUp1Nk6fUNAj",
        "outputId": "ed0dcb47-1140-466a-8c17-8de3dd401199"
      },
      "execution_count": null,
      "outputs": [
        {
          "output_type": "stream",
          "name": "stdout",
          "text": [
            "Downloading data from https://www.cs.toronto.edu/~kriz/cifar-100-python.tar.gz\n",
            "169001437/169001437 [==============================] - 2s 0us/step\n",
            "x_train shape: (50000, 32, 32, 3) - y_train shape: (50000, 1)\n",
            "x_test shape: (10000, 32, 32, 3) - y_test shape: (10000, 1)\n"
          ]
        }
      ]
    },
    {
      "cell_type": "code",
      "source": [
        "learning_rate = 0.001\n",
        "weight_decay = 0.0001\n",
        "batch_size = 256\n",
        "num_epochs = 25\n",
        "image_size = 72  # We'll resize input images to this size\n",
        "patch_size = 6  # Size of the patches to be extract from the input images\n",
        "num_patches = (image_size // patch_size) ** 2\n",
        "projection_dim = 64\n",
        "num_heads = 4\n",
        "transformer_units = [\n",
        "    projection_dim * 2,\n",
        "    projection_dim,\n",
        "]  # Size of the transformer layers\n",
        "transformer_layers = 8\n",
        "mlp_head_units = [2048, 1024]  # Size of the dense layers of the final classifier"
      ],
      "metadata": {
        "id": "f011IrAHUOlJ"
      },
      "execution_count": null,
      "outputs": []
    },
    {
      "cell_type": "code",
      "source": [
        "data_augmentation = keras.Sequential(\n",
        "    [\n",
        "        layers.Normalization(),\n",
        "        layers.Resizing(image_size, image_size),\n",
        "        layers.RandomFlip(\"horizontal\"),\n",
        "        layers.RandomRotation(factor=0.02),\n",
        "        layers.RandomZoom(\n",
        "            height_factor=0.2, width_factor=0.2\n",
        "        ),\n",
        "    ],\n",
        "    name=\"data_augmentation\",\n",
        ")\n",
        "# Compute the mean and the variance of the training data for normalization.\n",
        "data_augmentation.layers[0].adapt(x_train)"
      ],
      "metadata": {
        "id": "IGnD9FkAUQTu"
      },
      "execution_count": null,
      "outputs": []
    },
    {
      "cell_type": "code",
      "source": [
        "def mlp(x, hidden_units, dropout_rate):\n",
        "    for units in hidden_units:\n",
        "        x = layers.Dense(units, activation=tf.nn.gelu)(x)\n",
        "        x = layers.Dropout(dropout_rate)(x)\n",
        "    return x"
      ],
      "metadata": {
        "id": "H7jSg_YZUR9K"
      },
      "execution_count": null,
      "outputs": []
    },
    {
      "cell_type": "code",
      "source": [
        "class Patches(layers.Layer):\n",
        "    def __init__(self, patch_size):\n",
        "        super().__init__()\n",
        "        self.patch_size = patch_size\n",
        "\n",
        "    def call(self, images):\n",
        "        batch_size = tf.shape(images)[0]\n",
        "        patches = tf.image.extract_patches(\n",
        "            images=images,\n",
        "            sizes=[1, self.patch_size, self.patch_size, 1],\n",
        "            strides=[1, self.patch_size, self.patch_size, 1],\n",
        "            rates=[1, 1, 1, 1],\n",
        "            padding=\"VALID\",\n",
        "        )\n",
        "        patch_dims = patches.shape[-1]\n",
        "        patches = tf.reshape(patches, [batch_size, -1, patch_dims])\n",
        "        return patches"
      ],
      "metadata": {
        "id": "5u8wBO9jUWks"
      },
      "execution_count": null,
      "outputs": []
    },
    {
      "cell_type": "code",
      "source": [
        "import matplotlib.pyplot as plt\n",
        "\n",
        "plt.figure(figsize=(4, 4))\n",
        "image = x_train[np.random.choice(range(x_train.shape[0]))]\n",
        "plt.imshow(image.astype(\"uint8\"))\n",
        "plt.axis(\"off\")\n",
        "\n",
        "resized_image = tf.image.resize(\n",
        "    tf.convert_to_tensor([image]), size=(image_size, image_size)\n",
        ")\n",
        "patches = Patches(patch_size)(resized_image)\n",
        "print(f\"Image size: {image_size} X {image_size}\")\n",
        "print(f\"Patch size: {patch_size} X {patch_size}\")\n",
        "print(f\"Patches per image: {patches.shape[1]}\")\n",
        "print(f\"Elements per patch: {patches.shape[-1]}\")\n",
        "\n",
        "n = int(np.sqrt(patches.shape[1]))\n",
        "plt.figure(figsize=(4, 4))\n",
        "for i, patch in enumerate(patches[0]):\n",
        "    ax = plt.subplot(n, n, i + 1)\n",
        "    patch_img = tf.reshape(patch, (patch_size, patch_size, 3))\n",
        "    plt.imshow(patch_img.numpy().astype(\"uint8\"))\n",
        "    plt.axis(\"off\")"
      ],
      "metadata": {
        "colab": {
          "base_uri": "https://localhost:8080/",
          "height": 742
        },
        "id": "C0sbnVqkUYa3",
        "outputId": "859a84bc-918b-48c1-a098-71d2473b4270"
      },
      "execution_count": null,
      "outputs": [
        {
          "output_type": "stream",
          "name": "stdout",
          "text": [
            "Image size: 72 X 72\n",
            "Patch size: 6 X 6\n",
            "Patches per image: 144\n",
            "Elements per patch: 108\n"
          ]
        },
        {
          "output_type": "display_data",
          "data": {
            "text/plain": [
              "<Figure size 400x400 with 1 Axes>"
            ],
            "image/png": "[encoded data removed]"
          },
          "metadata": {}
        },
        {
          "output_type": "display_data",
          "data": {
            "text/plain": [
              "<Figure size 400x400 with 144 Axes>"
            ],
            "image/png": "[encoded data removed]"
          },
          "metadata": {}
        }
      ]
    },
    {
      "cell_type": "code",
      "source": [
        "class PatchEncoder(layers.Layer):\n",
        "    def __init__(self, num_patches, projection_dim):\n",
        "        super().__init__()\n",
        "        self.num_patches = num_patches\n",
        "        self.projection = layers.Dense(units=projection_dim)\n",
        "        self.position_embedding = layers.Embedding(\n",
        "            input_dim=num_patches, output_dim=projection_dim\n",
        "        )\n",
        "\n",
        "    def call(self, patch):\n",
        "        positions = tf.range(start=0, limit=self.num_patches, delta=1)\n",
        "        encoded = self.projection(patch) + self.position_embedding(positions)\n",
        "        return encoded"
      ],
      "metadata": {
        "id": "lF5PVf2vUajA"
      },
      "execution_count": null,
      "outputs": []
    },
    {
      "cell_type": "code",
      "source": [
        "def create_vit_classifier():\n",
        "    inputs = layers.Input(shape=input_shape)\n",
        "    # Augment data.\n",
        "    augmented = data_augmentation(inputs)\n",
        "    # Create patches.\n",
        "    patches = Patches(patch_size)(augmented)\n",
        "    # Encode patches.\n",
        "    encoded_patches = PatchEncoder(num_patches, projection_dim)(patches)\n",
        "\n",
        "    # Create multiple layers of the Transformer block.\n",
        "    for _ in range(transformer_layers):\n",
        "        # Layer normalization 1.\n",
        "        x1 = layers.LayerNormalization(epsilon=1e-6)(encoded_patches)\n",
        "        # Create a multi-head attention layer.\n",
        "        attention_output = layers.MultiHeadAttention(\n",
        "            num_heads=num_heads, key_dim=projection_dim, dropout=0.1\n",
        "        )(x1, x1)\n",
        "        # Skip connection 1.\n",
        "        x2 = layers.Add()([attention_output, encoded_patches])\n",
        "        # Layer normalization 2.\n",
        "        x3 = layers.LayerNormalization(epsilon=1e-6)(x2)\n",
        "        # MLP.\n",
        "        x3 = mlp(x3, hidden_units=transformer_units, dropout_rate=0.1)\n",
        "        # Skip connection 2.\n",
        "        encoded_patches = layers.Add()([x3, x2])\n",
        "\n",
        "    # Create a [batch_size, projection_dim] tensor.\n",
        "    representation = layers.LayerNormalization(epsilon=1e-6)(encoded_patches)\n",
        "    representation = layers.Flatten()(representation)\n",
        "    representation = layers.Dropout(0.5)(representation)\n",
        "    # Add MLP.\n",
        "    features = mlp(representation, hidden_units=mlp_head_units, dropout_rate=0.5)\n",
        "    # Classify outputs.\n",
        "    logits = layers.Dense(num_classes)(features)\n",
        "    # Create the Keras model.\n",
        "    model = keras.Model(inputs=inputs, outputs=logits)\n",
        "    return model"
      ],
      "metadata": {
        "id": "o2ANnuOfUcrb"
      },
      "execution_count": null,
      "outputs": []
    },
    {
      "cell_type": "code",
      "source": [
        "def run_experiment(model):\n",
        "    optimizer = tfa.optimizers.AdamW(\n",
        "        learning_rate=learning_rate, weight_decay=weight_decay\n",
        "    )\n",
        "\n",
        "    model.compile(\n",
        "        optimizer=optimizer,\n",
        "        loss=keras.losses.SparseCategoricalCrossentropy(from_logits=True),\n",
        "        metrics=[\n",
        "            keras.metrics.SparseCategoricalAccuracy(name=\"accuracy\"),\n",
        "            keras.metrics.SparseTopKCategoricalAccuracy(5, name=\"top-5-accuracy\"),\n",
        "        ],\n",
        "    )\n",
        "\n",
        "    checkpoint_filepath = \"/tmp/checkpoint\"\n",
        "    checkpoint_callback = keras.callbacks.ModelCheckpoint(\n",
        "        checkpoint_filepath,\n",
        "        monitor=\"val_accuracy\",\n",
        "        save_best_only=True,\n",
        "        save_weights_only=True,\n",
        "    )\n",
        "\n",
        "    history = model.fit(\n",
        "        x=x_train,\n",
        "        y=y_train,\n",
        "        batch_size=batch_size,\n",
        "        epochs=num_epochs,\n",
        "        validation_split=0.1,\n",
        "        callbacks=[checkpoint_callback],\n",
        "    )\n",
        "\n",
        "    model.load_weights(checkpoint_filepath)\n",
        "    _, accuracy, top_5_accuracy = model.evaluate(x_test, y_test)\n",
        "    print(f\"Test accuracy: {round(accuracy * 100, 2)}%\")\n",
        "    print(f\"Test top 5 accuracy: {round(top_5_accuracy * 100, 2)}%\")\n",
        "\n",
        "    return history\n",
        "\n",
        "\n",
        "vit_classifier = create_vit_classifier()\n",
        "history = run_experiment(vit_classifier)"
      ],
      "metadata": {
        "colab": {
          "base_uri": "https://localhost:8080/"
        },
        "id": "z4yj3Y6FUe6I",
        "outputId": "d7b4ab67-90c1-4dc3-ffe6-ea35701144ba"
      },
      "execution_count": null,
      "outputs": [
        {
          "output_type": "stream",
          "name": "stdout",
          "text": [
            "Epoch 1/25\n",
            "176/176 [==============================] - 80s 373ms/step - loss: 4.4478 - accuracy: 0.0488 - top-5-accuracy: 0.1672 - val_loss: 3.8587 - val_accuracy: 0.1118 - val_top-5-accuracy: 0.3224\n",
            "Epoch 2/25\n",
            "176/176 [==============================] - 65s 369ms/step - loss: 3.8790 - accuracy: 0.1012 - top-5-accuracy: 0.3106 - val_loss: 3.5245 - val_accuracy: 0.1598 - val_top-5-accuracy: 0.4138\n",
            "Epoch 3/25\n",
            "176/176 [==============================] - 70s 399ms/step - loss: 3.6205 - accuracy: 0.1400 - top-5-accuracy: 0.3886 - val_loss: 3.3618 - val_accuracy: 0.1856 - val_top-5-accuracy: 0.4726\n",
            "Epoch 4/25\n",
            "176/176 [==============================] - 65s 371ms/step - loss: 3.4187 - accuracy: 0.1750 - top-5-accuracy: 0.4440 - val_loss: 3.1271 - val_accuracy: 0.2298 - val_top-5-accuracy: 0.5282\n",
            "Epoch 5/25\n",
            "176/176 [==============================] - 69s 390ms/step - loss: 3.2627 - accuracy: 0.2044 - top-5-accuracy: 0.4899 - val_loss: 2.9751 - val_accuracy: 0.2694 - val_top-5-accuracy: 0.5646\n",
            "Epoch 6/25\n",
            "176/176 [==============================] - 71s 401ms/step - loss: 3.1237 - accuracy: 0.2315 - top-5-accuracy: 0.5241 - val_loss: 2.8599 - val_accuracy: 0.2854 - val_top-5-accuracy: 0.5858\n",
            "Epoch 7/25\n",
            "176/176 [==============================] - 70s 400ms/step - loss: 2.9896 - accuracy: 0.2562 - top-5-accuracy: 0.5588 - val_loss: 2.7707 - val_accuracy: 0.3060 - val_top-5-accuracy: 0.6100\n",
            "Epoch 8/25\n",
            "176/176 [==============================] - 69s 392ms/step - loss: 2.8688 - accuracy: 0.2817 - top-5-accuracy: 0.5854 - val_loss: 2.6335 - val_accuracy: 0.3308 - val_top-5-accuracy: 0.6464\n",
            "Epoch 9/25\n",
            "176/176 [==============================] - 70s 400ms/step - loss: 2.7619 - accuracy: 0.3018 - top-5-accuracy: 0.6147 - val_loss: 2.5347 - val_accuracy: 0.3574 - val_top-5-accuracy: 0.6542\n",
            "Epoch 10/25\n",
            "176/176 [==============================] - 64s 364ms/step - loss: 2.6736 - accuracy: 0.3178 - top-5-accuracy: 0.6348 - val_loss: 2.5105 - val_accuracy: 0.3564 - val_top-5-accuracy: 0.6714\n",
            "Epoch 11/25\n",
            "176/176 [==============================] - 67s 381ms/step - loss: 2.5884 - accuracy: 0.3353 - top-5-accuracy: 0.6536 - val_loss: 2.3990 - val_accuracy: 0.3852 - val_top-5-accuracy: 0.6882\n",
            "Epoch 12/25\n",
            "176/176 [==============================] - 68s 388ms/step - loss: 2.5071 - accuracy: 0.3513 - top-5-accuracy: 0.6704 - val_loss: 2.3546 - val_accuracy: 0.3996 - val_top-5-accuracy: 0.7028\n",
            "Epoch 13/25\n",
            "176/176 [==============================] - 64s 365ms/step - loss: 2.4244 - accuracy: 0.3684 - top-5-accuracy: 0.6897 - val_loss: 2.2884 - val_accuracy: 0.3960 - val_top-5-accuracy: 0.7124\n",
            "Epoch 14/25\n",
            "176/176 [==============================] - 70s 401ms/step - loss: 2.3642 - accuracy: 0.3835 - top-5-accuracy: 0.7022 - val_loss: 2.2778 - val_accuracy: 0.4068 - val_top-5-accuracy: 0.7102\n",
            "Epoch 15/25\n",
            "176/176 [==============================] - 67s 380ms/step - loss: 2.3005 - accuracy: 0.3967 - top-5-accuracy: 0.7151 - val_loss: 2.2075 - val_accuracy: 0.4304 - val_top-5-accuracy: 0.7266\n",
            "Epoch 16/25\n",
            "176/176 [==============================] - 68s 388ms/step - loss: 2.2232 - accuracy: 0.4120 - top-5-accuracy: 0.7300 - val_loss: 2.1923 - val_accuracy: 0.4336 - val_top-5-accuracy: 0.7282\n",
            "Epoch 17/25\n",
            "176/176 [==============================] - 70s 396ms/step - loss: 2.1642 - accuracy: 0.4238 - top-5-accuracy: 0.7427 - val_loss: 2.1471 - val_accuracy: 0.4412 - val_top-5-accuracy: 0.7360\n",
            "Epoch 18/25\n",
            "176/176 [==============================] - 68s 387ms/step - loss: 2.1031 - accuracy: 0.4383 - top-5-accuracy: 0.7554 - val_loss: 2.1242 - val_accuracy: 0.4490 - val_top-5-accuracy: 0.7448\n",
            "Epoch 19/25\n",
            "176/176 [==============================] - 70s 399ms/step - loss: 2.0499 - accuracy: 0.4517 - top-5-accuracy: 0.7642 - val_loss: 2.0777 - val_accuracy: 0.4576 - val_top-5-accuracy: 0.7508\n",
            "Epoch 20/25\n",
            "176/176 [==============================] - 64s 366ms/step - loss: 2.0035 - accuracy: 0.4593 - top-5-accuracy: 0.7724 - val_loss: 2.0485 - val_accuracy: 0.4576 - val_top-5-accuracy: 0.7584\n",
            "Epoch 21/25\n",
            "176/176 [==============================] - 70s 400ms/step - loss: 1.9533 - accuracy: 0.4716 - top-5-accuracy: 0.7852 - val_loss: 2.0322 - val_accuracy: 0.4652 - val_top-5-accuracy: 0.7592\n",
            "Epoch 22/25\n",
            "176/176 [==============================] - 65s 372ms/step - loss: 1.8907 - accuracy: 0.4860 - top-5-accuracy: 0.7948 - val_loss: 2.0002 - val_accuracy: 0.4776 - val_top-5-accuracy: 0.7720\n",
            "Epoch 23/25\n",
            "176/176 [==============================] - 70s 399ms/step - loss: 1.8610 - accuracy: 0.4907 - top-5-accuracy: 0.8007 - val_loss: 1.9660 - val_accuracy: 0.4914 - val_top-5-accuracy: 0.7772\n",
            "Epoch 24/25\n",
            "176/176 [==============================] - 64s 366ms/step - loss: 1.8119 - accuracy: 0.5022 - top-5-accuracy: 0.8093 - val_loss: 1.9674 - val_accuracy: 0.4868 - val_top-5-accuracy: 0.7758\n",
            "Epoch 25/25\n",
            "176/176 [==============================] - 70s 401ms/step - loss: 1.7658 - accuracy: 0.5134 - top-5-accuracy: 0.8173 - val_loss: 1.9224 - val_accuracy: 0.4932 - val_top-5-accuracy: 0.7860\n",
            "313/313 [==============================] - 7s 23ms/step - loss: 1.8979 - accuracy: 0.4899 - top-5-accuracy: 0.7898\n",
            "Test accuracy: 48.99%\n",
            "Test top 5 accuracy: 78.98%\n"
          ]
        }
      ]
    },
    {
      "cell_type": "code",
      "source": [],
      "metadata": {
        "id": "vo4fFu7JhZzZ"
      },
      "execution_count": null,
      "outputs": []
    }
  ]
}